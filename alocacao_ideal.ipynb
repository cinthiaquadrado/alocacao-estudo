{
  "nbformat": 4,
  "nbformat_minor": 0,
  "metadata": {
    "colab": {
      "provenance": []
    },
    "kernelspec": {
      "name": "python3",
      "display_name": "Python 3"
    },
    "language_info": {
      "name": "python"
    }
  },
  "cells": [
    {
      "cell_type": "markdown",
      "source": [
        "# Estudando possíveis cruzamentos de dados com Python"
      ],
      "metadata": {
        "id": "tfa5uKCAvcVj"
      }
    },
    {
      "cell_type": "markdown",
      "source": [
        "\n",
        "Os dados são apenas de exemplos e me ajudaram a entender como poderia relacionar uma dataframes com o número de pessoas disponíveis para trabalho, a perfomance delas segundo as áreas em que atuam e depois com a necessidade de pessoas para atuar no dia (demanda diária)."
      ],
      "metadata": {
        "id": "zbSvpc3suuu1"
      }
    },
    {
      "cell_type": "code",
      "execution_count": 1,
      "metadata": {
        "colab": {
          "base_uri": "https://localhost:8080/"
        },
        "id": "oKx_hubss-4x",
        "outputId": "ecf88b88-126a-401a-ae9e-fcfa64b2e2b8"
      },
      "outputs": [
        {
          "output_type": "stream",
          "name": "stdout",
          "text": [
            "     Nome Tipo_Carteira  Minutos_Atuacao  Performance  Demanda_Diaria  \\\n",
            "0    João         Ações              240         0.15               5   \n",
            "1  Carlos         Ações              300         0.12               5   \n",
            "2   Maria    Renda Fixa              180         0.08               3   \n",
            "3     Ana    Renda Fixa              220         0.09               3   \n",
            "\n",
            "   Pessoas_Necessarias  \n",
            "0                2.500  \n",
            "1                3.125  \n",
            "2                1.125  \n",
            "3                1.375  \n"
          ]
        }
      ],
      "source": [
        "import pandas as pd\n",
        "\n",
        "# Criar a tabela de programação das pessoas\n",
        "dados_programacao = {\n",
        "    'Nome': ['João', 'Maria', 'Carlos', 'Ana'],\n",
        "    'Tipo_Carteira': ['Ações', 'Renda Fixa', 'Ações', 'Renda Fixa'],\n",
        "    'Minutos_Atuacao': [240, 180, 300, 220]\n",
        "}\n",
        "\n",
        "tabela_programacao = pd.DataFrame(dados_programacao)\n",
        "\n",
        "# Criar a tabela de performance\n",
        "dados_performance = {\n",
        "    'Nome': ['João', 'Maria', 'Carlos', 'Ana'],\n",
        "    'Tipo_Carteira': ['Ações', 'Renda Fixa', 'Ações', 'Renda Fixa'],\n",
        "    'Performance': [0.15, 0.08, 0.12, 0.09]\n",
        "}\n",
        "\n",
        "tabela_performance = pd.DataFrame(dados_performance)\n",
        "\n",
        "# Criar a tabela de demanda por carteira\n",
        "dados_demanda = {\n",
        "    'Tipo_Carteira': ['Ações', 'Renda Fixa'],\n",
        "    'Demanda_Diaria': [5, 3]\n",
        "}\n",
        "\n",
        "tabela_demanda = pd.DataFrame(dados_demanda)\n",
        "\n",
        "# Realizar o cruzamento de informações\n",
        "resultado = pd.merge(tabela_programacao, tabela_performance, on=['Nome', 'Tipo_Carteira'])\n",
        "resultado = pd.merge(resultado, tabela_demanda, on='Tipo_Carteira')\n",
        "\n",
        "# Calcular o número de pessoas necessárias por carteira\n",
        "resultado['Pessoas_Necessarias'] = resultado['Minutos_Atuacao'] / (8 * 60) * resultado['Demanda_Diaria']\n",
        "\n",
        "print(resultado)\n"
      ]
    },
    {
      "cell_type": "markdown",
      "source": [
        "## Uso de leitura de planilhas do Excel"
      ],
      "metadata": {
        "id": "wD0KfTWyvUlB"
      }
    },
    {
      "cell_type": "code",
      "source": [
        "import pandas as pd\n",
        "\n",
        "# Carregar os dados das tabelas a partir de arquivos Excel\n",
        "tabela_programacao = pd.read_excel('programacao.xlsx', engine='openpyxl')\n",
        "tabela_performance = pd.read_excel('performance.xlsx', engine='openpyxl')\n",
        "tabela_demanda = pd.read_excel('demanda.xlsx', engine='openpyxl')\n",
        "\n",
        "# Ordenar a tabela de performance pela coluna 'Performance' em ordem decrescente\n",
        "tabela_performance = tabela_performance.sort_values(by='Performance', ascending=False)\n",
        "\n",
        "# Realizar o cruzamento de informações\n",
        "resultado = pd.merge(tabela_programacao, tabela_performance, on=['Nome', 'Tipo_Carteira'])\n",
        "resultado = pd.merge(resultado, tabela_demanda, on='Tipo_Carteira')\n",
        "\n",
        "# Calcular o número de pessoas necessárias por carteira\n",
        "resultado['Pessoas_Necessarias'] = resultado['Minutos_Atuacao'] / (8 * 60) * resultado['Demanda_Diaria']\n",
        "\n",
        "print(resultado)\n"
      ],
      "metadata": {
        "id": "yiZqstqstXwu"
      },
      "execution_count": null,
      "outputs": []
    }
  ]
}